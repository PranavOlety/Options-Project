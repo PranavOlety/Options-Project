{
 "cells": [
  {
   "cell_type": "code",
   "execution_count": null,
   "id": "ed1acc3a-ad0a-45ac-8cd3-59789d30cf78",
   "metadata": {},
   "outputs": [],
   "source": [
    "#Upload test"
   ]
  }
 ],
 "metadata": {
  "kernelspec": {
   "display_name": "Python 3 (ipykernel)",
   "language": "python",
   "name": "python3"
  },
  "language_info": {
   "codemirror_mode": {
    "name": "ipython",
    "version": 3
   },
   "file_extension": ".py",
   "mimetype": "text/x-python",
   "name": "python",
   "nbconvert_exporter": "python",
   "pygments_lexer": "ipython3",
   "version": "3.12.7"
  }
 },
 "nbformat": 4,
 "nbformat_minor": 5
}
