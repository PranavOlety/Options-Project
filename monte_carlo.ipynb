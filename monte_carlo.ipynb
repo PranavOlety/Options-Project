{
  "cells": [
    {
      "cell_type": "markdown",
      "metadata": {
        "id": "Hm3k_D05Ha1g"
      },
      "source": [
        "# Monte Carlo Simulation for European Stock Options\n",
        "\n",
        "This notebook implements various techniques to price European-style options using Monte Carlo simulation methods. We also compare the simulated prices with analytical solutions (Black-Scholes) and incorporate real-time data using Yahoo Finance."
      ]
    },
    {
      "cell_type": "markdown",
      "metadata": {
        "id": "XykRntVR6g5a"
      },
      "source": [
        "## 1. Imports"
      ]
    },
    {
      "cell_type": "code",
      "execution_count": null,
      "metadata": {
        "id": "nY0izr_k1iz1"
      },
      "outputs": [],
      "source": [
        "import numpy as np\n",
        "from scipy.stats import norm\n",
        "from scipy.stats.qmc import Sobol\n",
        "import yfinance as yf\n",
        "from datetime import datetime"
      ]
    },
    {
      "cell_type": "markdown",
      "metadata": {
        "id": "z3O4S6Qi6ogc"
      },
      "source": [
        "## 2. Basic Monte Carlo Pricer\n",
        "\n",
        "This function estimates the price of an option using basic Monte Carlo simulation of stock paths under the geometric Brownian motion assumption."
      ]
    },
    {
      "cell_type": "code",
      "execution_count": null,
      "metadata": {
        "id": "WHub3emlIxls"
      },
      "outputs": [],
      "source": [
        "def monte_carlo_option_price(\n",
        "    initial_stock_price, strike_price, time_to_maturity, risk_free_rate, vol, option_type=\"call\",\n",
        "    N=100000, use_antithetic=False\n",
        "):\n",
        "    \"\"\"\n",
        "    Monte Carlo pricer for European call or put options\n",
        "    \"\"\"\n",
        "    Z = np.random.randn(N) ## NORM(0,1)\n",
        "\n",
        "    if use_antithetic:\n",
        "        Z = np.concatenate((Z, -Z))  # Antithetic variates, doubles samples size, reduces variance\n",
        "\n",
        "    ST = initial_stock_price * np.exp((risk_free_rate - 0.5 * vol**2) * time_to_maturity + vol * np.sqrt(time_to_maturity) * Z)\n",
        "\n",
        "    if option_type == \"call\":\n",
        "        payoff = np.maximum(ST - strike_price, 0)\n",
        "    elif option_type == \"put\":\n",
        "        payoff = np.maximum(strike_price - ST, 0)\n",
        "    else:\n",
        "        raise ValueError(\"option_type must be 'call' or 'put'\")\n",
        "\n",
        "    return np.exp(-risk_free_rate * time_to_maturity) * np.mean(payoff) ## final price\n"
      ]
    },
    {
      "cell_type": "markdown",
      "metadata": {
        "id": "wp2xkonXPcoQ"
      },
      "source": [
        "When the use_antithetic field is set to False (which is the defualt), it would be the naive Monte Carlo Simulation."
      ]
    },
    {
      "cell_type": "code",
      "execution_count": null,
      "metadata": {
        "colab": {
          "base_uri": "https://localhost:8080/"
        },
        "id": "AizRzYOty9g4",
        "outputId": "206297e4-7231-437c-9a6e-daac36b556bc"
      },
      "outputs": [
        {
          "name": "stdout",
          "output_type": "stream",
          "text": [
            "European Call Price (Naive MC): 8.1501\n",
            "European Put Price  (Naive MC): 7.8827\n",
            "European Call Price (Antithetic MC): 8.1079\n",
            "European Put Price  (Antithetic MC): 7.8744\n"
          ]
        }
      ],
      "source": [
        "# Example usage\n",
        "S0 = 100     # initial stock price\n",
        "K = 105      # strike price\n",
        "T = 1.0      # time to maturity (1 year)\n",
        "r = 0.05     # risk-free interest rate\n",
        "sigma = 0.2  # volatility\n",
        "N = 2**15   # number of simulations\n",
        "\n",
        "# Call pricing\n",
        "call_price = monte_carlo_option_price(S0, K, T, r, sigma, \"call\", N, use_antithetic=True)\n",
        "put_price = monte_carlo_option_price(S0, K, T, r, sigma, \"put\", N, use_antithetic=True)\n",
        "\n",
        "call_price_naive = monte_carlo_option_price(S0, K, T, r, sigma, \"call\", N, use_antithetic=False)\n",
        "put_price_naive = monte_carlo_option_price(S0, K, T, r, sigma, \"put\", N, use_antithetic=False)\n",
        "\n",
        "## Without Antithetic\n",
        "print(f\"European Call Price (Naive MC): {call_price_naive:.4f}\")\n",
        "print(f\"European Put Price  (Naive MC): {put_price_naive:.4f}\")\n",
        "\n",
        "## with Antithetic\n",
        "print(f\"European Call Price (Antithetic MC): {call_price:.4f}\")\n",
        "print(f\"European Put Price  (Antithetic MC): {put_price:.4f}\")"
      ]
    },
    {
      "cell_type": "markdown",
      "metadata": {
        "id": "H5M-V8587kHg"
      },
      "source": [
        "## 3. Quasi Monte Carlo with Sobol Sequences\n",
        "\n",
        "We will now implement a function that uses a Sobol sequence instead of pseudorandom numbers for variance reduction."
      ]
    },
    {
      "cell_type": "code",
      "execution_count": null,
      "metadata": {
        "colab": {
          "base_uri": "https://localhost:8080/"
        },
        "id": "P41mf0_uIufB",
        "outputId": "2c194768-a737-4eb1-96e8-6dcdfce55186"
      },
      "outputs": [
        {
          "name": "stdout",
          "output_type": "stream",
          "text": [
            "European Call Price using Quasi-MC (Sobol): 8.0214\n"
          ]
        }
      ],
      "source": [
        "# Parameters\n",
        "S0 = 100\n",
        "K = 105\n",
        "T = 1.0\n",
        "r = 0.05\n",
        "sigma = 0.2\n",
        "N = 2**22  # Must be a power of 2 for Sobol, make the power the parameter\n",
        "\n",
        "\n",
        "def monte_carlo_option_price_qmc(intial_stock_price, strike_price, time_to_maturity=T, risk_free_rate=r, vol=sigma,\n",
        "    N=2**22):\n",
        "\n",
        "# 1. Generate Sobol sequence\n",
        "  sobol_engine = Sobol(d=1, scramble=True)\n",
        "  ## one dimensional, scrambling adds randomization for statistical error estimation\n",
        "  u = sobol_engine.random(N)\n",
        "  Z_qmc = norm.ppf(u.flatten())  # Transform to standard normal\n",
        "  ## basically inverse transform theorem\n",
        "\n",
        "# 2. Simulate stock paths\n",
        "  ST = S0 * np.exp((risk_free_rate - 0.5 * vol**2) * time_to_maturity + vol * np.sqrt(time_to_maturity) * Z_qmc)\n",
        "\n",
        "# 3. Calculate discounted payoff\n",
        "  payoff = np.maximum(ST - K, 0)\n",
        "  price = np.exp(-risk_free_rate * time_to_maturity) * np.mean(payoff)\n",
        "\n",
        "\n",
        "  return price\n",
        "\n",
        "price = monte_carlo_option_price_qmc(S0, K)\n",
        "\n",
        "print(f\"European Call Price using Quasi-MC (Sobol): {price:.4f}\")"
      ]
    },
    {
      "cell_type": "markdown",
      "metadata": {
        "id": "HOvZD_ME7xUQ"
      },
      "source": [
        "### Timing Comparison: QMC vs Standard MC"
      ]
    },
    {
      "cell_type": "code",
      "execution_count": null,
      "metadata": {
        "colab": {
          "base_uri": "https://localhost:8080/"
        },
        "id": "kt3fAB7hLJSG",
        "outputId": "e146c8d0-6203-4734-9837-b0e6b48aed6f"
      },
      "outputs": [
        {
          "name": "stdout",
          "output_type": "stream",
          "text": [
            "0.38810236599999826\n",
            "0.35613032900000263\n"
          ]
        }
      ],
      "source": [
        "import time\n",
        "\n",
        "t = time.process_time()\n",
        "#do some stuff\n",
        "price = monte_carlo_option_price_qmc(S0, K)\n",
        "elapsed_time = time.process_time() - t\n",
        "print(elapsed_time)\n",
        "\n",
        "\n",
        "t = time.process_time()\n",
        "#do some stuff\n",
        "price = monte_carlo_option_price(S0, K, T, r, sigma, \"call\", N, use_antithetic=True)\n",
        "elapsed_time = time.process_time() - t\n",
        "print(elapsed_time)"
      ]
    },
    {
      "cell_type": "markdown",
      "metadata": {
        "id": "IUL5f0Rs8BA2"
      },
      "source": [
        "## 4. Real-Time Market Data via Yahoo Finance\n",
        "\n",
        "This funciton utilizes the Yahoo Finance API to fetch live market data. It will take inputs such as the ticker symbol, strike price, and expiry date and will return all of the inputs necessary for the Monte Carlo functions."
      ]
    },
    {
      "cell_type": "code",
      "execution_count": null,
      "metadata": {
        "id": "8_iKiXfGJ7JR"
      },
      "outputs": [],
      "source": [
        "def get_yahoo_market_data(ticker_symbol, strike_price, expiry_date=None):\n",
        "    ticker = yf.Ticker(ticker_symbol)\n",
        "\n",
        "    # Use the first available expiry date if none is provided\n",
        "    if expiry_date is None:\n",
        "        expiry_date = ticker.options[0]\n",
        "\n",
        "    # Get option chain for given expiry date\n",
        "    option_chain = ticker.option_chain(expiry_date)\n",
        "    calls = option_chain.calls\n",
        "\n",
        "    # Filter for the row with the desired strike price\n",
        "    option_row = calls[calls['strike'] == strike_price]\n",
        "\n",
        "    if option_row.empty:\n",
        "        raise ValueError(f\"No call option found at strike price {strike_price} for {ticker_symbol} on {expiry_date}\")\n",
        "\n",
        "    # Get current stock price\n",
        "    S0 = ticker.history(period=\"1d\")['Close'].iloc[-1]\n",
        "\n",
        "    # Time to expiry in years\n",
        "    expiry = datetime.strptime(expiry_date, \"%Y-%m-%d\")\n",
        "    today = datetime.today()\n",
        "    T = (expiry - today).days / 365\n",
        "\n",
        "    # Risk-free rate (constant)\n",
        "    r = 0.05\n",
        "\n",
        "    # Get implied volatility\n",
        "    sigma = option_row['impliedVolatility'].values[0]\n",
        "\n",
        "    return S0, strike_price, T, r, sigma\n"
      ]
    },
    {
      "cell_type": "code",
      "execution_count": null,
      "metadata": {
        "id": "4MCkMw2iK_IT"
      },
      "outputs": [],
      "source": [
        "#Example usage\n",
        "\n",
        "ticker = 'AAPL'\n",
        "strike = 110\n",
        "\n",
        "## we should also return last price as well\n",
        "S0, K, T, r, sigma = get_yahoo_market_data(ticker, strike)"
      ]
    },
    {
      "cell_type": "code",
      "execution_count": null,
      "metadata": {
        "colab": {
          "base_uri": "https://localhost:8080/"
        },
        "id": "XDMFfoBSMaop",
        "outputId": "bd593cfe-0028-4865-ace6-ebd0390f03c7"
      },
      "outputs": [
        {
          "name": "stdout",
          "output_type": "stream",
          "text": [
            "\n",
            "📈 Live Market Inputs for AAPL July 25, 2025 Call @ 110\n",
            "  S0     = 212.48\n",
            "  K      = 110\n",
            "  T      = 0.0082 years\n",
            "  r      = 0.05\n",
            "  sigma  = 2.1094\n",
            "\n"
          ]
        }
      ],
      "source": [
        "print(f\"\\n📈 Live Market Inputs for {ticker} July 25, 2025 Call @ {strike}\")\n",
        "print(f\"  S0     = {S0:.2f}\")\n",
        "print(f\"  K      = {K}\")\n",
        "print(f\"  T      = {T:.4f} years\")\n",
        "print(f\"  r      = {r}\")\n",
        "print(f\"  sigma  = {sigma:.4f}\\n\")"
      ]
    },
    {
      "cell_type": "code",
      "execution_count": null,
      "metadata": {
        "colab": {
          "base_uri": "https://localhost:8080/"
        },
        "id": "KHnDaC6jSOcX",
        "outputId": "3368cebf-b1ff-4273-d06c-9345ecaa73ff"
      },
      "outputs": [
        {
          "name": "stdout",
          "output_type": "stream",
          "text": [
            "102.52731447731101\n"
          ]
        }
      ],
      "source": [
        "print(monte_carlo_option_price_qmc(S0, K))"
      ]
    },
    {
      "cell_type": "markdown",
      "metadata": {
        "id": "kr2NTUhe8qUu"
      },
      "source": [
        "## 5. Parallelized QMC\n",
        "\n",
        "We would now like to enhance performance. To do so, we will utilize the Joblib package to run simulations in parallel across cores."
      ]
    },
    {
      "cell_type": "code",
      "execution_count": null,
      "metadata": {
        "id": "KXmVd8qtdmYy"
      },
      "outputs": [],
      "source": [
        "### parallelized qmc\n",
        "from joblib import Parallel, delayed\n",
        "def qmc_price_european_option(\n",
        "    intial_stock_price, strike, time_to_maturity, risk_free_rate, vol,\n",
        "    option_type=\"call\",  # \"call\" or \"put\"\n",
        "    N=2**22, n_jobs=4, scramble=True\n",
        "):\n",
        "    if option_type not in {\"call\", \"put\"}:\n",
        "        raise ValueError(\"option_type must be 'call' or 'put'\")\n",
        "\n",
        "    # Generate Sobol samples and map to N(0,1)\n",
        "    sobol = Sobol(d=1, scramble=scramble)\n",
        "    Z = norm.ppf(sobol.random(N).flatten())\n",
        "    chunks = np.array_split(Z, n_jobs)\n",
        "\n",
        "    results = Parallel(n_jobs=n_jobs)(\n",
        "        delayed(lambda chunk: np.sum(np.exp(-risk_free_rate * time_to_maturity) * (\n",
        "            np.maximum(\n",
        "                S0 * np.exp((risk_free_rate - 0.5 * vol**2) * time_to_maturity + vol * np.sqrt(time_to_maturity) * chunk) - K,\n",
        "                0\n",
        "            ) if option_type == \"call\" else\n",
        "            np.maximum(\n",
        "                K - S0 * np.exp((risk_free_rate - 0.5 * vol**2) * time_to_maturity + vol * np.sqrt(time_to_maturity) * chunk),\n",
        "                0\n",
        "            )\n",
        "        )))(chunk) for chunk in chunks\n",
        "    )\n",
        "\n",
        "    return np.sum(results) / N\n",
        "\n",
        "\n"
      ]
    },
    {
      "cell_type": "code",
      "execution_count": null,
      "metadata": {
        "colab": {
          "base_uri": "https://localhost:8080/"
        },
        "id": "U5izmeC0lARC",
        "outputId": "a4a38c63-8514-4146-ee6b-4649166752e5"
      },
      "outputs": [
        {
          "name": "stdout",
          "output_type": "stream",
          "text": [
            "Call Price: 8.0213\n",
            "Put Price:  7.9004\n"
          ]
        }
      ],
      "source": [
        "call = qmc_price_european_option(100, 105, 1.0, 0.05, 0.2, option_type=\"call\")\n",
        "print(f\"Call Price: {call:.4f}\")\n",
        "\n",
        "# Put option\n",
        "put = qmc_price_european_option(100, 105, 1.0, 0.05, 0.2, option_type=\"put\")\n",
        "print(f\"Put Price:  {put:.4f}\")"
      ]
    },
    {
      "cell_type": "code",
      "execution_count": null,
      "metadata": {
        "colab": {
          "base_uri": "https://localhost:8080/"
        },
        "id": "-o5Urbs5l3zk",
        "outputId": "039cd4f3-763c-48d5-c635-4bbbd03d3bf6"
      },
      "outputs": [
        {
          "name": "stdout",
          "output_type": "stream",
          "text": [
            "102.52730553782006\n"
          ]
        }
      ],
      "source": [
        "print(qmc_price_european_option(S0, K, T, r, sigma, option_type=\"call\"))"
      ]
    },
    {
      "cell_type": "code",
      "execution_count": null,
      "metadata": {
        "colab": {
          "base_uri": "https://localhost:8080/"
        },
        "id": "0K0k0ZiSoofy",
        "outputId": "a5548112-aa62-4b45-cf79-d4444e84353c"
      },
      "outputs": [
        {
          "name": "stdout",
          "output_type": "stream",
          "text": [
            "\n",
            "--- Timing Comparison ---\n",
            "Antithetic MC time: 0.333616 seconds\n",
            "Antithetic MC Call Price: 102.5251\n",
            "QMC (Sobol) time: 0.092344 seconds\n",
            "QMC (Sobol) Call Price: 102.5273\n",
            "Parallelized QMC time: 0.212168 seconds\n",
            "Parallelized QMC Call Price: 102.5273\n"
          ]
        }
      ],
      "source": [
        "\n",
        "print(\"\\n--- Timing Comparison ---\")\n",
        "\n",
        "# Time Antithetic MC\n",
        "start_time = time.time()\n",
        "call_price_anti = monte_carlo_option_price(S0, K, T, r, sigma, \"call\", N, use_antithetic=True)\n",
        "end_time = time.time()\n",
        "print(f\"Antithetic MC time: {end_time - start_time:.6f} seconds\")\n",
        "print(f\"Antithetic MC Call Price: {call_price_anti:.4f}\")\n",
        "\n",
        "\n",
        "# Time QMC (Sobol)\n",
        "start_time = time.time()\n",
        "call_price_qmc = monte_carlo_option_price_qmc(S0, K, T, r, sigma, N=2**20) # Using a larger N for QMC\n",
        "end_time = time.time()\n",
        "print(f\"QMC (Sobol) time: {end_time - start_time:.6f} seconds\")\n",
        "print(f\"QMC (Sobol) Call Price: {call_price_qmc:.4f}\")\n",
        "\n",
        "# Time Parallelized QMC\n",
        "start_time = time.time()\n",
        "call_price_parallel_qmc = qmc_price_european_option(S0, K, T, r, sigma, option_type=\"call\", N=2**20, n_jobs=4)\n",
        "end_time = time.time()\n",
        "print(f\"Parallelized QMC time: {end_time - start_time:.6f} seconds\")\n",
        "print(f\"Parallelized QMC Call Price: {call_price_parallel_qmc:.4f}\")\n"
      ]
    },
    {
      "cell_type": "code",
      "execution_count": 73,
      "metadata": {
        "id": "3m1iWEKjqLS3"
      },
      "outputs": [],
      "source": [
        "import jax\n",
        "import jax.numpy as jnp\n",
        "from scipy.stats.qmc import Sobol\n",
        "from scipy.stats import norm\n",
        "\n",
        "@jax.jit\n",
        "def bsm_payoff(S0, K, T, r, sigma, Z, is_call):\n",
        "    ST = S0 * jnp.exp((r - 0.5 * sigma**2) * T + sigma * jnp.sqrt(T) * Z)\n",
        "\n",
        "\n",
        "    def call_payoff(_):\n",
        "        return jnp.mean(jnp.maximum(ST - K, 0.0)) * jnp.exp(-r * T)\n",
        "\n",
        "    def put_payoff(_):\n",
        "        return jnp.mean(jnp.maximum(K - ST, 0.0)) * jnp.exp(-r * T)\n",
        "\n",
        "    return jax.lax.cond(is_call, call_payoff,\n",
        "                        put_payoff, operand=None)\n",
        "\n",
        "def qmc_price_jax(initial_stock_price, strike, time_to_maturity, risk_free_rate, vol, is_call, N=2**22):\n",
        "    u = jnp.linspace(0, 1, N, endpoint=False) + 0.5 / N\n",
        "    Z = jnp.array(norm.ppf(u))  # Convert to JAX array\n",
        "    return bsm_payoff(initial_stock_price, strike, time_to_maturity, risk_free_rate, vol, Z, is_call)\n"
      ]
    },
    {
      "cell_type": "code",
      "execution_count": 89,
      "metadata": {
        "colab": {
          "base_uri": "https://localhost:8080/"
        },
        "id": "Sgbx7OdhqRfd",
        "outputId": "51dab301-661e-4c11-bc3d-5c6fb889dd2d"
      },
      "outputs": [
        {
          "name": "stdout",
          "output_type": "stream",
          "text": [
            "JAX QMC time: 0.566175 seconds\n",
            "JAX QMC Call Price: 8.0214\n"
          ]
        }
      ],
      "source": [
        "\n",
        "# Time JAX QMC\n",
        "start_time = time.time()\n",
        "# JAX functions need a warmup run\n",
        "_ = qmc_price_jax(S0, K, T, r, sigma, is_call=True, N=2**22).block_until_ready()\n",
        "call_price_jax_qmc = qmc_price_jax(S0, K, T, r, sigma, is_call=True, N=2**22).block_until_ready()\n",
        "end_time = time.time()\n",
        "print(f\"JAX QMC time: {end_time - start_time:.6f} seconds\")\n",
        "print(f\"JAX QMC Call Price: {call_price_jax_qmc:.4f}\")"
      ]
    },
    {
      "cell_type": "markdown",
      "metadata": {
        "id": "yc3GoAZP9AFv"
      },
      "source": [
        "## 6. Control Variates\n",
        "\n",
        "We would now like to explore a bit more variance reduction. Specifically, we will apply the control variates technique by comparing our simulated price with the known Black-Scholes formula."
      ]
    },
    {
      "cell_type": "code",
      "execution_count": null,
      "metadata": {
        "id": "D0dq-eaJ3BaR"
      },
      "outputs": [],
      "source": [
        "## control variate code\n",
        "\n",
        "\n",
        "def european_option_with_control_variate(initial_stock_price, strike_price, time_to_maturity, risk_free_rate, vol, option_type=\"call\", N=2**22):\n",
        "    Z = np.random.randn(N) ## NORM(0,1)\n",
        "\n",
        "    ST = initial_stock_price * np.exp((r - 0.5 * vol**2) * time_to_maturity + vol * np.sqrt(time_to_maturity) * Z)\n",
        "\n",
        "    if option_type == \"call\":\n",
        "        payoff = np.maximum(ST - strike_price, 0)\n",
        "    elif option_type == \"put\":\n",
        "        payoff = np.maximum(strike_price - ST, 0)\n",
        "    else:\n",
        "        raise ValueError(\"option_type must be 'call' or 'put'\")\n",
        "\n",
        "    Y = ST\n",
        "    EY = S0 * np.exp(r * time_to_maturity) ## mathematical formula here\n",
        "\n",
        "    # Step 5: Compute beta = Cov(X, Y) / Var(Y)\n",
        "    cov_xy = np.cov(payoff, Y, bias=True)[0, 1]\n",
        "    var_y = np.var(Y)\n",
        "    beta = cov_xy / var_y\n",
        "\n",
        "    # Step 6: Control variate adjustment\n",
        "    Z_cv = payoff - beta * (Y - EY)\n",
        "\n",
        "    # Step 7: Discount result\n",
        "    return np.mean(Z_cv) * np.exp(-risk_free_rate * time_to_maturity)\n"
      ]
    },
    {
      "cell_type": "code",
      "execution_count": null,
      "metadata": {
        "colab": {
          "base_uri": "https://localhost:8080/"
        },
        "id": "OtSfe1C4cyrx",
        "outputId": "6744c4d7-2091-4026-c772-e25c10414493"
      },
      "outputs": [
        {
          "name": "stdout",
          "output_type": "stream",
          "text": [
            "8.018366176563358\n"
          ]
        }
      ],
      "source": [
        "## Setting Variables\n",
        "S0 = 100     # initial stock price\n",
        "K = 105      # strike price\n",
        "T = 1.0      # time to maturity (1 year)\n",
        "r = 0.05     # risk-free interest rate\n",
        "sigma = 0.2  # volatility\n",
        "N = 2**15   # number of simulations\n",
        "\n",
        "print(european_option_with_control_variate(S0,K, T, r, sigma, \"call\", N))"
      ]
    },
    {
      "cell_type": "code",
      "execution_count": 64,
      "metadata": {
        "colab": {
          "base_uri": "https://localhost:8080/"
        },
        "id": "ZjM-yfwYTI1b",
        "outputId": "d0bd282f-2677-4937-e35b-7a80078064cf"
      },
      "outputs": [
        {
          "name": "stdout",
          "output_type": "stream",
          "text": [
            "8.021352235143176\n"
          ]
        }
      ],
      "source": [
        "## Closed Form Black-Scholes Option Pricer (Calls/Puts)\n",
        "def closed_form_black_scholes(intial_stock_price, strike_price,\n",
        "                              time_to_maturity, risk_free_rate, vol, option_type=\"call\"):\n",
        "\n",
        "  d1 = (np.log(intial_stock_price / strike_price) + (risk_free_rate + 0.5 * vol**2) * time_to_maturity) / (vol * np.sqrt(time_to_maturity))\n",
        "  d2 = d1 - vol * np.sqrt(time_to_maturity)\n",
        "\n",
        "  if option_type == \"call\":\n",
        "    return intial_stock_price * norm.cdf(d1) - strike_price * np.exp(-risk_free_rate * time_to_maturity) * norm.cdf(d2)\n",
        "  else:\n",
        "    return strike_price * np.exp(-risk_free_rate * time_to_maturity) * norm.cdf(-d2) - intial_stock_price * norm.cdf(-d1)\n",
        "\n",
        "\n",
        "\n",
        "\n",
        "\n",
        "print(closed_form_black_scholes(S0,K, T, r, sigma, \"call\"))\n"
      ]
    },
    {
      "cell_type": "markdown",
      "metadata": {
        "id": "aldl9k9y9P4u"
      },
      "source": [
        "## 7. Plotting our Results"
      ]
    },
    {
      "cell_type": "code",
      "execution_count": 72,
      "metadata": {
        "colab": {
          "base_uri": "https://localhost:8080/",
          "height": 854
        },
        "id": "LwjhfSyE9qtL",
        "outputId": "616ae907-bd7e-44f6-f20a-20ba2b3069aa"
      },
      "outputs": [
        {
          "name": "stdout",
          "output_type": "stream",
          "text": [
            "Running convergence tests...\n",
            "  Running for N = 1024\n",
            "  Running for N = 2048\n",
            "  Running for N = 4096\n",
            "  Running for N = 8192\n",
            "  Running for N = 16384\n",
            "  Running for N = 32768\n",
            "  Running for N = 65536\n",
            "  Running for N = 131072\n",
            "  Running for N = 262144\n",
            "  Running for N = 524288\n",
            "  Running for N = 1048576\n"
          ]
        },
        {
          "data": {
            "image/png": "[encoded data removed]",
            "text/plain": [
              "<Figure size 1200x700 with 1 Axes>"
            ]
          },
          "metadata": {},
          "output_type": "display_data"
        }
      ],
      "source": [
        "\n",
        "import matplotlib.pyplot as plt\n",
        "\n",
        "# Parameters\n",
        "S0 = 100\n",
        "K = 105\n",
        "T = 1.0\n",
        "r = 0.05\n",
        "sigma = 0.2\n",
        "\n",
        "# Range of sample sizes (powers of 2 are good for Sobol)\n",
        "sample_sizes = [2**i for i in range(10, 21)] # Start from 2^10\n",
        "\n",
        "# Lists to store results\n",
        "mc_prices = []\n",
        "mc_prices_a = []\n",
        "c_prices = []\n",
        "qmc_prices = []\n",
        "\n",
        "\n",
        "print(\"Running convergence tests...\")\n",
        "for N in sample_sizes:\n",
        "    print(f\"  Running for N = {N}\")\n",
        "\n",
        "\n",
        "    # Standard MC (without antithetic variate/no variance reduction)\n",
        "    mc_price = monte_carlo_option_price(S0, K, T, r, sigma, \"call\", N, use_antithetic=False)\n",
        "    mc_prices.append(mc_price)\n",
        "\n",
        "    # Standard MC (with antithetic variates)\n",
        "    mc_price_a = monte_carlo_option_price(S0, K, T, r, sigma, \"call\", N, use_antithetic=True)\n",
        "    mc_prices_a.append(mc_price_a)\n",
        "\n",
        "\n",
        "    ## Control Variate MC\n",
        "\n",
        "    c_price  = european_option_with_control_variate(S0, K, T, r, sigma, \"call\", N)\n",
        "    c_prices.append(c_price)\n",
        "    # QMC (Sobol)\n",
        "    qmc_price = monte_carlo_option_price_qmc(S0, K, T, r, sigma, N=N)\n",
        "    qmc_prices.append(qmc_price)\n",
        "\n",
        "\n",
        "# Plotting the convergence\n",
        "plt.figure(figsize=(12, 7))\n",
        "\n",
        "plt.axhline(y=closed_form_black_scholes(S0, K, T, r, sigma, \"call\"), color='black', linestyle='-', linewidth=1, label='Black-Scholes Closed-Form')\n",
        "\n",
        "plt.plot(sample_sizes, mc_prices, label='Standard MC (No Antithetic)', marker='*', linestyle='-')\n",
        "plt.plot(sample_sizes, mc_prices_a, label='Standard MC (Antithetic)', marker='o', linestyle='--')\n",
        "plt.plot(sample_sizes, c_prices, label='Control Variate MC', marker='^', linestyle=':')\n",
        "plt.plot(sample_sizes, qmc_prices, label='QMC (Sobol)', marker='x')\n",
        "\n",
        "\n",
        "plt.xscale('log')\n",
        "plt.xlabel('Number of Simulations (N)')\n",
        "plt.ylabel('Option Price (Call)')\n",
        "plt.title('Convergence of Option Prices with Increasing Sample Size')\n",
        "plt.legend()\n",
        "plt.grid(True, which=\"both\", linestyle='--')\n",
        "plt.show()\n"
      ]
    },
    {
      "cell_type": "code",
      "execution_count": null,
      "metadata": {
        "id": "hdDEVyGUdDcf"
      },
      "outputs": [],
      "source": []
    },
    {
      "cell_type": "markdown",
      "metadata": {
        "id": "GaZv1-zd9ou2"
      },
      "source": [
        "## 8. Conclusion\n",
        "\n",
        "This end-to-end simulation framework demonstrates the power and flexibility of simulation-based methods, particularly Monte-Carlo, in the financial modeling space. Future work could extend this to price American options, estimate the Greeks, or visualize convergence with confidence intervals."
      ]
    }
  ],
  "metadata": {
    "colab": {
      "provenance": []
    },
    "kernelspec": {
      "display_name": "Python 3",
      "name": "python3"
    },
    "language_info": {
      "name": "python"
    }
  },
  "nbformat": 4,
  "nbformat_minor": 0
}
